{
  "cells": [
    {
      "cell_type": "markdown",
      "metadata": {
        "id": "view-in-github",
        "colab_type": "text"
      },
      "source": [
        "<a href=\"https://colab.research.google.com/github/honor-cc/cmt-data-science/blob/Session_1/Session_II_Introduction_to_Panda_Data_series.ipynb\" target=\"_parent\"><img src=\"https://colab.research.google.com/assets/colab-badge.svg\" alt=\"Open In Colab\"/></a>"
      ]
    },
    {
      "cell_type": "markdown",
      "id": "4aba1f0d",
      "metadata": {
        "id": "4aba1f0d"
      },
      "source": [
        "# **Learning outcome**"
      ]
    },
    {
      "cell_type": "markdown",
      "source": [
        "Jean Mathias, Foundation Programme, Durham University"
      ],
      "metadata": {
        "id": "kTNTbe7Pu5mW"
      },
      "id": "kTNTbe7Pu5mW"
    },
    {
      "cell_type": "markdown",
      "source": [
        "* Upload a dataframe.\n",
        "* Access data from a 1D array.\n",
        "* Simple arithmatic\n",
        "* Sampling"
      ],
      "metadata": {
        "id": "ad8d4800"
      },
      "id": "ad8d4800"
    },
    {
      "cell_type": "code",
      "execution_count": null,
      "id": "414e3434",
      "metadata": {
        "id": "414e3434"
      },
      "outputs": [],
      "source": [
        "#First we import some packages (tools)\n",
        "import pandas as pd  #import pandas and call it pd\n",
        "import numpy as np   #import numpy and call it np\n",
        "import matplotlib.pyplot as plt\n",
        "\n",
        "%matplotlib inline"
      ]
    },
    {
      "cell_type": "markdown",
      "id": "c59dcd0b",
      "metadata": {
        "id": "c59dcd0b"
      },
      "source": [
        "# Input or Creat a series"
      ]
    },
    {
      "cell_type": "code",
      "source": [
        "#first upload file from GitHub\\\n",
        "#Click on the dataset in your repository, then click on View Raw. \n",
        "#Copy the link to the raw dataset and store it as a string variable called url in Colab as shown below (a cleaner method but it’s not necessary). \n",
        "#The last step is to load the url into Pandas read_csv to get the dataframe.\n",
        "url='https://raw.githubusercontent.com/srsq64/CMT-Data-Science/main/Avonford_cleaned.csv'\n",
        "cycling=pd.read_csv(url)\n",
        "cycling"
      ],
      "metadata": {
        "id": "xS7G1iZo8K5Y"
      },
      "id": "xS7G1iZo8K5Y",
      "execution_count": null,
      "outputs": []
    },
    {
      "cell_type": "code",
      "source": [
        "cycling.info() #Here the data we imported is as dataframe that has rows and columns"
      ],
      "metadata": {
        "id": "7wn801Ht9GHT"
      },
      "id": "7wn801Ht9GHT",
      "execution_count": null,
      "outputs": []
    },
    {
      "cell_type": "code",
      "source": [
        "age=cycling['age']  #Here we extraced a column as data series\n",
        "age"
      ],
      "metadata": {
        "id": "W0OQUvY6wcOn"
      },
      "id": "W0OQUvY6wcOn",
      "execution_count": null,
      "outputs": []
    },
    {
      "cell_type": "code",
      "source": [
        "age.shape"
      ],
      "metadata": {
        "id": "44zHD2e4ww6P"
      },
      "id": "44zHD2e4ww6P",
      "execution_count": null,
      "outputs": []
    },
    {
      "cell_type": "markdown",
      "source": [
        "# Some basic airthematic"
      ],
      "metadata": {
        "id": "Aqilph4VCqRe"
      },
      "id": "Aqilph4VCqRe"
    },
    {
      "cell_type": "code",
      "source": [
        "A=2*age\n",
        "B=age-10\n",
        "print(A)\n",
        "print(B)"
      ],
      "metadata": {
        "id": "HmdbLloOB76u",
        "colab": {
          "base_uri": "https://localhost:8080/",
          "height": 226
        },
        "outputId": "141bb0bd-a69d-4f21-d679-070d372bafce"
      },
      "id": "HmdbLloOB76u",
      "execution_count": 1,
      "outputs": [
        {
          "output_type": "error",
          "ename": "NameError",
          "evalue": "ignored",
          "traceback": [
            "\u001b[0;31m---------------------------------------------------------------------------\u001b[0m",
            "\u001b[0;31mNameError\u001b[0m                                 Traceback (most recent call last)",
            "\u001b[0;32m<ipython-input-1-38142d86a48f>\u001b[0m in \u001b[0;36m<module>\u001b[0;34m\u001b[0m\n\u001b[0;32m----> 1\u001b[0;31m \u001b[0mA\u001b[0m\u001b[0;34m=\u001b[0m\u001b[0;36m2\u001b[0m\u001b[0;34m*\u001b[0m\u001b[0mage\u001b[0m\u001b[0;34m\u001b[0m\u001b[0;34m\u001b[0m\u001b[0m\n\u001b[0m\u001b[1;32m      2\u001b[0m \u001b[0mB\u001b[0m\u001b[0;34m=\u001b[0m\u001b[0mage\u001b[0m\u001b[0;34m-\u001b[0m\u001b[0;36m10\u001b[0m\u001b[0;34m\u001b[0m\u001b[0;34m\u001b[0m\u001b[0m\n\u001b[1;32m      3\u001b[0m \u001b[0mprint\u001b[0m\u001b[0;34m(\u001b[0m\u001b[0mA\u001b[0m\u001b[0;34m)\u001b[0m\u001b[0;34m\u001b[0m\u001b[0;34m\u001b[0m\u001b[0m\n\u001b[1;32m      4\u001b[0m \u001b[0mprint\u001b[0m\u001b[0;34m(\u001b[0m\u001b[0mB\u001b[0m\u001b[0;34m)\u001b[0m\u001b[0;34m\u001b[0m\u001b[0;34m\u001b[0m\u001b[0m\n",
            "\u001b[0;31mNameError\u001b[0m: name 'age' is not defined"
          ]
        }
      ]
    },
    {
      "cell_type": "markdown",
      "source": [
        "# Access data "
      ],
      "metadata": {
        "id": "5ifgQq59Catz"
      },
      "id": "5ifgQq59Catz"
    },
    {
      "cell_type": "code",
      "source": [
        "age.index  #This shows the range of index, from 0 to 88 inclusive."
      ],
      "metadata": {
        "id": "jx61w3SEMHVw"
      },
      "id": "jx61w3SEMHVw",
      "execution_count": null,
      "outputs": []
    },
    {
      "cell_type": "code",
      "source": [
        "C=age[1]\n",
        "C"
      ],
      "metadata": {
        "id": "gJhwiDceCick"
      },
      "id": "gJhwiDceCick",
      "execution_count": null,
      "outputs": []
    },
    {
      "cell_type": "code",
      "source": [
        "d=age.iloc[0] # you can also using item location 0, 1, 2...\n",
        "d"
      ],
      "metadata": {
        "id": "cTZa684bMhMo"
      },
      "id": "cTZa684bMhMo",
      "execution_count": null,
      "outputs": []
    },
    {
      "cell_type": "code",
      "source": [
        "e=age.iloc[-1]  #-1 is the last item in the list\n",
        "e"
      ],
      "metadata": {
        "id": "Y7Qqu-MFM22a"
      },
      "id": "Y7Qqu-MFM22a",
      "execution_count": null,
      "outputs": []
    },
    {
      "cell_type": "code",
      "source": [
        "f=age[:5] # This is to access the firts five numbers\n",
        "f"
      ],
      "metadata": {
        "id": "L-W4RpJCOA4o"
      },
      "id": "L-W4RpJCOA4o",
      "execution_count": null,
      "outputs": []
    },
    {
      "cell_type": "code",
      "source": [
        "g=age[2:5] # This is to access the numbers from index 2 to 4\n",
        "g"
      ],
      "metadata": {
        "id": "fKxqtUMPOWB5"
      },
      "id": "fKxqtUMPOWB5",
      "execution_count": null,
      "outputs": []
    },
    {
      "cell_type": "code",
      "source": [
        "h=age.iloc[-5:-1]\n",
        "h"
      ],
      "metadata": {
        "id": "UqsHiEiUOm4R"
      },
      "id": "UqsHiEiUOm4R",
      "execution_count": null,
      "outputs": []
    },
    {
      "cell_type": "markdown",
      "source": [
        "# Sampling methods"
      ],
      "metadata": {
        "id": "Ie8aHmC5QG_7"
      },
      "id": "Ie8aHmC5QG_7"
    },
    {
      "cell_type": "code",
      "source": [
        "s1=age.sample() # This gives a randomly chosen number\n",
        "print(s1)"
      ],
      "metadata": {
        "id": "fUSqZ6CxQLpb"
      },
      "id": "fUSqZ6CxQLpb",
      "execution_count": null,
      "outputs": []
    },
    {
      "cell_type": "code",
      "source": [
        "s2=age.sample(n=5) # This gives the defined number of randomly chosen samples\n",
        "print(s2)"
      ],
      "metadata": {
        "id": "RcbKWsrLRGxq"
      },
      "id": "RcbKWsrLRGxq",
      "execution_count": null,
      "outputs": []
    },
    {
      "cell_type": "code",
      "source": [
        "s3=age.sample(frac=0.1) # morelike stretified, give a sample of 10% of total \n",
        "s3"
      ],
      "metadata": {
        "id": "39Uj-EMpQbAJ"
      },
      "id": "39Uj-EMpQbAJ",
      "execution_count": null,
      "outputs": []
    },
    {
      "cell_type": "code",
      "source": [
        "s4=age[age<18] #This give all the samples that age<18\n",
        "s4"
      ],
      "metadata": {
        "id": "zLMAMdP1RcUD"
      },
      "id": "zLMAMdP1RcUD",
      "execution_count": null,
      "outputs": []
    },
    {
      "cell_type": "code",
      "source": [
        "rate=5\n",
        "s5=age[::rate] #This is close to systermatic sampling with evey 5 interval, always start from index=0\n",
        "s5"
      ],
      "metadata": {
        "id": "AwDMs3WISH39"
      },
      "id": "AwDMs3WISH39",
      "execution_count": null,
      "outputs": []
    },
    {
      "cell_type": "code",
      "source": [],
      "metadata": {
        "id": "6_SVWbrzSk3r"
      },
      "id": "6_SVWbrzSk3r",
      "execution_count": null,
      "outputs": []
    }
  ],
  "metadata": {
    "kernelspec": {
      "display_name": "Python 3",
      "language": "python",
      "name": "python3"
    },
    "language_info": {
      "codemirror_mode": {
        "name": "ipython",
        "version": 3
      },
      "file_extension": ".py",
      "mimetype": "text/x-python",
      "name": "python",
      "nbconvert_exporter": "python",
      "pygments_lexer": "ipython3",
      "version": "3.8.10"
    },
    "colab": {
      "provenance": [],
      "include_colab_link": true
    }
  },
  "nbformat": 4,
  "nbformat_minor": 5
}