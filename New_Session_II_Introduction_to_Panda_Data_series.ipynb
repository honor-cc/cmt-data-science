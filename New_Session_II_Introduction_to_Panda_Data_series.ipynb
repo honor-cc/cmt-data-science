{
  "cells": [
    {
      "cell_type": "markdown",
      "metadata": {
        "id": "view-in-github",
        "colab_type": "text"
      },
      "source": [
        "<a href=\"https://colab.research.google.com/github/honor-cc/cmt-data-science/blob/main/New_Session_II_Introduction_to_Panda_Data_series.ipynb\" target=\"_parent\"><img src=\"https://colab.research.google.com/assets/colab-badge.svg\" alt=\"Open In Colab\"/></a>"
      ]
    },
    {
      "cell_type": "markdown",
      "id": "4aba1f0d",
      "metadata": {
        "id": "4aba1f0d"
      },
      "source": [
        "# **Learning outcome**"
      ]
    },
    {
      "cell_type": "markdown",
      "source": [
        "Jean Mathias, Foundation Programme, Durham University"
      ],
      "metadata": {
        "id": "kTNTbe7Pu5mW"
      },
      "id": "kTNTbe7Pu5mW"
    },
    {
      "cell_type": "markdown",
      "source": [
        "* Upload a dataframe.\n",
        "* Access data from a 1D array.\n",
        "* Simple arithmatic\n",
        "* Sampling"
      ],
      "metadata": {
        "id": "ad8d4800"
      },
      "id": "ad8d4800"
    },
    {
      "cell_type": "code",
      "execution_count": 53,
      "id": "414e3434",
      "metadata": {
        "id": "414e3434"
      },
      "outputs": [],
      "source": [
        "#First we import some packages (tools)\n",
        "import pandas as pd  #import pandas and call it pd\n",
        "import numpy as np   #import numpy and call it np\n",
        "import matplotlib.pyplot as plt\n",
        "\n",
        "%matplotlib inline"
      ]
    },
    {
      "cell_type": "markdown",
      "id": "c59dcd0b",
      "metadata": {
        "id": "c59dcd0b"
      },
      "source": [
        "# Input or Create a series"
      ]
    },
    {
      "cell_type": "code",
      "source": [
        "#first upload file from GitHub\\\n",
        "#Click on the dataset in your repository, then click on View Raw. \n",
        "#Copy the link to the raw dataset and store it as a string variable called url in Colab as shown below (a cleaner method but it’s not necessary). \n",
        "#The last step is to load the url into Pandas read_csv to get the dataframe.\n",
        "url='https://raw.githubusercontent.com/srsq64/CMT-Data-Science/main/Avonford_cleaned.csv'\n",
        "cycling = pd.read_csv(url)\n",
        "cycling"
      ],
      "metadata": {
        "id": "xS7G1iZo8K5Y",
        "colab": {
          "base_uri": "https://localhost:8080/",
          "height": 748
        },
        "outputId": "8777778f-3cd2-4a44-e772-a79a3dd8126a"
      },
      "id": "xS7G1iZo8K5Y",
      "execution_count": 54,
      "outputs": [
        {
          "output_type": "execute_result",
          "data": {
            "text/plain": [
              "   first name last name gender   age distance from home  \\\n",
              "0      Sharon   Griffin      f   7.0               75 m   \n",
              "1        Fred    Fuller      m   6.0                20m   \n",
              "2       Seren     Maher      f  16.0                20m   \n",
              "3       James     Moore      m  20.0                2km   \n",
              "4      Claire   Higgins      f  19.0              10 km   \n",
              "..        ...       ...    ...   ...                ...   \n",
              "84  Alexander    Duggan      m  34.0          0.5 miles   \n",
              "85       Cath    Pickin      f  16.0          half mile   \n",
              "86       John     Smith      m  45.0               3 km   \n",
              "87    Shelley      Mann      f  21.0               50m    \n",
              "88       Luke    Murphy      m  20.0            3 miles   \n",
              "\n",
              "                       cause                           injuries  \\\n",
              "0            uneven pavement                         broken leg   \n",
              "1                  fell over                         concussion   \n",
              "2                   hit kerb                   dislocated elbow   \n",
              "3        trying to fix chain           partially severed finger   \n",
              "4   hit by car at roundabout   fractured arm and sprained wrist   \n",
              "..                       ...                                ...   \n",
              "84             brakes failed                         concussion   \n",
              "85          puncture by nail                   abrasions on leg   \n",
              "86                      skid                         concussion   \n",
              "87     slipped on wet leaves  deep cuts to legs, strained wrist   \n",
              "88            messing around                         broken arm   \n",
              "\n",
              "    overnights in hospital time of accident  Time of accident numerical  \\\n",
              "0                        1             2:35                        2.58   \n",
              "1                        1             3:15                        3.25   \n",
              "2                        0             7:00                        7.00   \n",
              "3                        0             7:00                        7.00   \n",
              "4                        0             7:45                        7.75   \n",
              "..                     ...              ...                         ...   \n",
              "84                       0            19:30                       19.50   \n",
              "85                       0            19:30                       19.50   \n",
              "86                       0            19:45                       19.75   \n",
              "87                       0            21:00                       21.00   \n",
              "88                       0            22:00                       22.00   \n",
              "\n",
              "   day of accident month of accident  Officer reporting wearing a helmet?  \n",
              "0         Saturday               May              45211                 y  \n",
              "1           Sunday         September              39813                 y  \n",
              "2        Wednesday          November              78264                 n  \n",
              "3           Monday              June              97655                 n  \n",
              "4           Monday          February              78264                 y  \n",
              "..             ...               ...                ...               ...  \n",
              "84          Monday           January              39813                 n  \n",
              "85         Tuesday          February              79655                 y  \n",
              "86         Tuesday               May              78264                 y  \n",
              "87          Friday           January              97655                 y  \n",
              "88        Saturday             April              78264                 y  \n",
              "\n",
              "[89 rows x 14 columns]"
            ],
            "text/html": [
              "\n",
              "  <div id=\"df-e0915862-a4a9-454b-a478-e2cc4e124331\">\n",
              "    <div class=\"colab-df-container\">\n",
              "      <div>\n",
              "<style scoped>\n",
              "    .dataframe tbody tr th:only-of-type {\n",
              "        vertical-align: middle;\n",
              "    }\n",
              "\n",
              "    .dataframe tbody tr th {\n",
              "        vertical-align: top;\n",
              "    }\n",
              "\n",
              "    .dataframe thead th {\n",
              "        text-align: right;\n",
              "    }\n",
              "</style>\n",
              "<table border=\"1\" class=\"dataframe\">\n",
              "  <thead>\n",
              "    <tr style=\"text-align: right;\">\n",
              "      <th></th>\n",
              "      <th>first name</th>\n",
              "      <th>last name</th>\n",
              "      <th>gender</th>\n",
              "      <th>age</th>\n",
              "      <th>distance from home</th>\n",
              "      <th>cause</th>\n",
              "      <th>injuries</th>\n",
              "      <th>overnights in hospital</th>\n",
              "      <th>time of accident</th>\n",
              "      <th>Time of accident numerical</th>\n",
              "      <th>day of accident</th>\n",
              "      <th>month of accident</th>\n",
              "      <th>Officer reporting</th>\n",
              "      <th>wearing a helmet?</th>\n",
              "    </tr>\n",
              "  </thead>\n",
              "  <tbody>\n",
              "    <tr>\n",
              "      <th>0</th>\n",
              "      <td>Sharon</td>\n",
              "      <td>Griffin</td>\n",
              "      <td>f</td>\n",
              "      <td>7.0</td>\n",
              "      <td>75 m</td>\n",
              "      <td>uneven pavement</td>\n",
              "      <td>broken leg</td>\n",
              "      <td>1</td>\n",
              "      <td>2:35</td>\n",
              "      <td>2.58</td>\n",
              "      <td>Saturday</td>\n",
              "      <td>May</td>\n",
              "      <td>45211</td>\n",
              "      <td>y</td>\n",
              "    </tr>\n",
              "    <tr>\n",
              "      <th>1</th>\n",
              "      <td>Fred</td>\n",
              "      <td>Fuller</td>\n",
              "      <td>m</td>\n",
              "      <td>6.0</td>\n",
              "      <td>20m</td>\n",
              "      <td>fell over</td>\n",
              "      <td>concussion</td>\n",
              "      <td>1</td>\n",
              "      <td>3:15</td>\n",
              "      <td>3.25</td>\n",
              "      <td>Sunday</td>\n",
              "      <td>September</td>\n",
              "      <td>39813</td>\n",
              "      <td>y</td>\n",
              "    </tr>\n",
              "    <tr>\n",
              "      <th>2</th>\n",
              "      <td>Seren</td>\n",
              "      <td>Maher</td>\n",
              "      <td>f</td>\n",
              "      <td>16.0</td>\n",
              "      <td>20m</td>\n",
              "      <td>hit kerb</td>\n",
              "      <td>dislocated elbow</td>\n",
              "      <td>0</td>\n",
              "      <td>7:00</td>\n",
              "      <td>7.00</td>\n",
              "      <td>Wednesday</td>\n",
              "      <td>November</td>\n",
              "      <td>78264</td>\n",
              "      <td>n</td>\n",
              "    </tr>\n",
              "    <tr>\n",
              "      <th>3</th>\n",
              "      <td>James</td>\n",
              "      <td>Moore</td>\n",
              "      <td>m</td>\n",
              "      <td>20.0</td>\n",
              "      <td>2km</td>\n",
              "      <td>trying to fix chain</td>\n",
              "      <td>partially severed finger</td>\n",
              "      <td>0</td>\n",
              "      <td>7:00</td>\n",
              "      <td>7.00</td>\n",
              "      <td>Monday</td>\n",
              "      <td>June</td>\n",
              "      <td>97655</td>\n",
              "      <td>n</td>\n",
              "    </tr>\n",
              "    <tr>\n",
              "      <th>4</th>\n",
              "      <td>Claire</td>\n",
              "      <td>Higgins</td>\n",
              "      <td>f</td>\n",
              "      <td>19.0</td>\n",
              "      <td>10 km</td>\n",
              "      <td>hit by car at roundabout</td>\n",
              "      <td>fractured arm and sprained wrist</td>\n",
              "      <td>0</td>\n",
              "      <td>7:45</td>\n",
              "      <td>7.75</td>\n",
              "      <td>Monday</td>\n",
              "      <td>February</td>\n",
              "      <td>78264</td>\n",
              "      <td>y</td>\n",
              "    </tr>\n",
              "    <tr>\n",
              "      <th>...</th>\n",
              "      <td>...</td>\n",
              "      <td>...</td>\n",
              "      <td>...</td>\n",
              "      <td>...</td>\n",
              "      <td>...</td>\n",
              "      <td>...</td>\n",
              "      <td>...</td>\n",
              "      <td>...</td>\n",
              "      <td>...</td>\n",
              "      <td>...</td>\n",
              "      <td>...</td>\n",
              "      <td>...</td>\n",
              "      <td>...</td>\n",
              "      <td>...</td>\n",
              "    </tr>\n",
              "    <tr>\n",
              "      <th>84</th>\n",
              "      <td>Alexander</td>\n",
              "      <td>Duggan</td>\n",
              "      <td>m</td>\n",
              "      <td>34.0</td>\n",
              "      <td>0.5 miles</td>\n",
              "      <td>brakes failed</td>\n",
              "      <td>concussion</td>\n",
              "      <td>0</td>\n",
              "      <td>19:30</td>\n",
              "      <td>19.50</td>\n",
              "      <td>Monday</td>\n",
              "      <td>January</td>\n",
              "      <td>39813</td>\n",
              "      <td>n</td>\n",
              "    </tr>\n",
              "    <tr>\n",
              "      <th>85</th>\n",
              "      <td>Cath</td>\n",
              "      <td>Pickin</td>\n",
              "      <td>f</td>\n",
              "      <td>16.0</td>\n",
              "      <td>half mile</td>\n",
              "      <td>puncture by nail</td>\n",
              "      <td>abrasions on leg</td>\n",
              "      <td>0</td>\n",
              "      <td>19:30</td>\n",
              "      <td>19.50</td>\n",
              "      <td>Tuesday</td>\n",
              "      <td>February</td>\n",
              "      <td>79655</td>\n",
              "      <td>y</td>\n",
              "    </tr>\n",
              "    <tr>\n",
              "      <th>86</th>\n",
              "      <td>John</td>\n",
              "      <td>Smith</td>\n",
              "      <td>m</td>\n",
              "      <td>45.0</td>\n",
              "      <td>3 km</td>\n",
              "      <td>skid</td>\n",
              "      <td>concussion</td>\n",
              "      <td>0</td>\n",
              "      <td>19:45</td>\n",
              "      <td>19.75</td>\n",
              "      <td>Tuesday</td>\n",
              "      <td>May</td>\n",
              "      <td>78264</td>\n",
              "      <td>y</td>\n",
              "    </tr>\n",
              "    <tr>\n",
              "      <th>87</th>\n",
              "      <td>Shelley</td>\n",
              "      <td>Mann</td>\n",
              "      <td>f</td>\n",
              "      <td>21.0</td>\n",
              "      <td>50m</td>\n",
              "      <td>slipped on wet leaves</td>\n",
              "      <td>deep cuts to legs, strained wrist</td>\n",
              "      <td>0</td>\n",
              "      <td>21:00</td>\n",
              "      <td>21.00</td>\n",
              "      <td>Friday</td>\n",
              "      <td>January</td>\n",
              "      <td>97655</td>\n",
              "      <td>y</td>\n",
              "    </tr>\n",
              "    <tr>\n",
              "      <th>88</th>\n",
              "      <td>Luke</td>\n",
              "      <td>Murphy</td>\n",
              "      <td>m</td>\n",
              "      <td>20.0</td>\n",
              "      <td>3 miles</td>\n",
              "      <td>messing around</td>\n",
              "      <td>broken arm</td>\n",
              "      <td>0</td>\n",
              "      <td>22:00</td>\n",
              "      <td>22.00</td>\n",
              "      <td>Saturday</td>\n",
              "      <td>April</td>\n",
              "      <td>78264</td>\n",
              "      <td>y</td>\n",
              "    </tr>\n",
              "  </tbody>\n",
              "</table>\n",
              "<p>89 rows × 14 columns</p>\n",
              "</div>\n",
              "      <button class=\"colab-df-convert\" onclick=\"convertToInteractive('df-e0915862-a4a9-454b-a478-e2cc4e124331')\"\n",
              "              title=\"Convert this dataframe to an interactive table.\"\n",
              "              style=\"display:none;\">\n",
              "        \n",
              "  <svg xmlns=\"http://www.w3.org/2000/svg\" height=\"24px\"viewBox=\"0 0 24 24\"\n",
              "       width=\"24px\">\n",
              "    <path d=\"M0 0h24v24H0V0z\" fill=\"none\"/>\n",
              "    <path d=\"M18.56 5.44l.94 2.06.94-2.06 2.06-.94-2.06-.94-.94-2.06-.94 2.06-2.06.94zm-11 1L8.5 8.5l.94-2.06 2.06-.94-2.06-.94L8.5 2.5l-.94 2.06-2.06.94zm10 10l.94 2.06.94-2.06 2.06-.94-2.06-.94-.94-2.06-.94 2.06-2.06.94z\"/><path d=\"M17.41 7.96l-1.37-1.37c-.4-.4-.92-.59-1.43-.59-.52 0-1.04.2-1.43.59L10.3 9.45l-7.72 7.72c-.78.78-.78 2.05 0 2.83L4 21.41c.39.39.9.59 1.41.59.51 0 1.02-.2 1.41-.59l7.78-7.78 2.81-2.81c.8-.78.8-2.07 0-2.86zM5.41 20L4 18.59l7.72-7.72 1.47 1.35L5.41 20z\"/>\n",
              "  </svg>\n",
              "      </button>\n",
              "      \n",
              "  <style>\n",
              "    .colab-df-container {\n",
              "      display:flex;\n",
              "      flex-wrap:wrap;\n",
              "      gap: 12px;\n",
              "    }\n",
              "\n",
              "    .colab-df-convert {\n",
              "      background-color: #E8F0FE;\n",
              "      border: none;\n",
              "      border-radius: 50%;\n",
              "      cursor: pointer;\n",
              "      display: none;\n",
              "      fill: #1967D2;\n",
              "      height: 32px;\n",
              "      padding: 0 0 0 0;\n",
              "      width: 32px;\n",
              "    }\n",
              "\n",
              "    .colab-df-convert:hover {\n",
              "      background-color: #E2EBFA;\n",
              "      box-shadow: 0px 1px 2px rgba(60, 64, 67, 0.3), 0px 1px 3px 1px rgba(60, 64, 67, 0.15);\n",
              "      fill: #174EA6;\n",
              "    }\n",
              "\n",
              "    [theme=dark] .colab-df-convert {\n",
              "      background-color: #3B4455;\n",
              "      fill: #D2E3FC;\n",
              "    }\n",
              "\n",
              "    [theme=dark] .colab-df-convert:hover {\n",
              "      background-color: #434B5C;\n",
              "      box-shadow: 0px 1px 3px 1px rgba(0, 0, 0, 0.15);\n",
              "      filter: drop-shadow(0px 1px 2px rgba(0, 0, 0, 0.3));\n",
              "      fill: #FFFFFF;\n",
              "    }\n",
              "  </style>\n",
              "\n",
              "      <script>\n",
              "        const buttonEl =\n",
              "          document.querySelector('#df-e0915862-a4a9-454b-a478-e2cc4e124331 button.colab-df-convert');\n",
              "        buttonEl.style.display =\n",
              "          google.colab.kernel.accessAllowed ? 'block' : 'none';\n",
              "\n",
              "        async function convertToInteractive(key) {\n",
              "          const element = document.querySelector('#df-e0915862-a4a9-454b-a478-e2cc4e124331');\n",
              "          const dataTable =\n",
              "            await google.colab.kernel.invokeFunction('convertToInteractive',\n",
              "                                                     [key], {});\n",
              "          if (!dataTable) return;\n",
              "\n",
              "          const docLinkHtml = 'Like what you see? Visit the ' +\n",
              "            '<a target=\"_blank\" href=https://colab.research.google.com/notebooks/data_table.ipynb>data table notebook</a>'\n",
              "            + ' to learn more about interactive tables.';\n",
              "          element.innerHTML = '';\n",
              "          dataTable['output_type'] = 'display_data';\n",
              "          await google.colab.output.renderOutput(dataTable, element);\n",
              "          const docLink = document.createElement('div');\n",
              "          docLink.innerHTML = docLinkHtml;\n",
              "          element.appendChild(docLink);\n",
              "        }\n",
              "      </script>\n",
              "    </div>\n",
              "  </div>\n",
              "  "
            ]
          },
          "metadata": {},
          "execution_count": 54
        }
      ]
    },
    {
      "cell_type": "code",
      "source": [
        "cycling.info() #Here the data we imported is as dataframe that has rows and columns"
      ],
      "metadata": {
        "id": "7wn801Ht9GHT",
        "colab": {
          "base_uri": "https://localhost:8080/"
        },
        "outputId": "e82ede7c-d7a6-43c7-b3f0-7f8cf9f5f497"
      },
      "id": "7wn801Ht9GHT",
      "execution_count": 55,
      "outputs": [
        {
          "output_type": "stream",
          "name": "stdout",
          "text": [
            "<class 'pandas.core.frame.DataFrame'>\n",
            "RangeIndex: 89 entries, 0 to 88\n",
            "Data columns (total 14 columns):\n",
            " #   Column                      Non-Null Count  Dtype  \n",
            "---  ------                      --------------  -----  \n",
            " 0   first name                  89 non-null     object \n",
            " 1   last name                   89 non-null     object \n",
            " 2   gender                      89 non-null     object \n",
            " 3   age                         89 non-null     float64\n",
            " 4   distance from home          89 non-null     object \n",
            " 5   cause                       89 non-null     object \n",
            " 6   injuries                    89 non-null     object \n",
            " 7   overnights in hospital      89 non-null     int64  \n",
            " 8   time of accident            89 non-null     object \n",
            " 9   Time of accident numerical  89 non-null     float64\n",
            " 10  day of accident             89 non-null     object \n",
            " 11  month of accident           89 non-null     object \n",
            " 12  Officer reporting           89 non-null     int64  \n",
            " 13  wearing a helmet?           89 non-null     object \n",
            "dtypes: float64(2), int64(2), object(10)\n",
            "memory usage: 9.9+ KB\n"
          ]
        }
      ]
    },
    {
      "cell_type": "code",
      "source": [
        "cycling.head()"
      ],
      "metadata": {
        "colab": {
          "base_uri": "https://localhost:8080/",
          "height": 406
        },
        "id": "Ue6X2eT5fpda",
        "outputId": "a0e56930-b67b-4c4e-dea3-700a93397740"
      },
      "id": "Ue6X2eT5fpda",
      "execution_count": 56,
      "outputs": [
        {
          "output_type": "execute_result",
          "data": {
            "text/plain": [
              "  first name last name gender   age distance from home  \\\n",
              "0     Sharon   Griffin      f   7.0               75 m   \n",
              "1       Fred    Fuller      m   6.0                20m   \n",
              "2      Seren     Maher      f  16.0                20m   \n",
              "3      James     Moore      m  20.0                2km   \n",
              "4     Claire   Higgins      f  19.0              10 km   \n",
              "\n",
              "                      cause                          injuries  \\\n",
              "0           uneven pavement                        broken leg   \n",
              "1                 fell over                        concussion   \n",
              "2                  hit kerb                  dislocated elbow   \n",
              "3       trying to fix chain          partially severed finger   \n",
              "4  hit by car at roundabout  fractured arm and sprained wrist   \n",
              "\n",
              "   overnights in hospital time of accident  Time of accident numerical  \\\n",
              "0                       1             2:35                        2.58   \n",
              "1                       1             3:15                        3.25   \n",
              "2                       0             7:00                        7.00   \n",
              "3                       0             7:00                        7.00   \n",
              "4                       0             7:45                        7.75   \n",
              "\n",
              "  day of accident month of accident  Officer reporting wearing a helmet?  \n",
              "0        Saturday               May              45211                 y  \n",
              "1          Sunday         September              39813                 y  \n",
              "2       Wednesday          November              78264                 n  \n",
              "3          Monday              June              97655                 n  \n",
              "4          Monday          February              78264                 y  "
            ],
            "text/html": [
              "\n",
              "  <div id=\"df-217d629a-6819-429f-8f5f-8b1396243f28\">\n",
              "    <div class=\"colab-df-container\">\n",
              "      <div>\n",
              "<style scoped>\n",
              "    .dataframe tbody tr th:only-of-type {\n",
              "        vertical-align: middle;\n",
              "    }\n",
              "\n",
              "    .dataframe tbody tr th {\n",
              "        vertical-align: top;\n",
              "    }\n",
              "\n",
              "    .dataframe thead th {\n",
              "        text-align: right;\n",
              "    }\n",
              "</style>\n",
              "<table border=\"1\" class=\"dataframe\">\n",
              "  <thead>\n",
              "    <tr style=\"text-align: right;\">\n",
              "      <th></th>\n",
              "      <th>first name</th>\n",
              "      <th>last name</th>\n",
              "      <th>gender</th>\n",
              "      <th>age</th>\n",
              "      <th>distance from home</th>\n",
              "      <th>cause</th>\n",
              "      <th>injuries</th>\n",
              "      <th>overnights in hospital</th>\n",
              "      <th>time of accident</th>\n",
              "      <th>Time of accident numerical</th>\n",
              "      <th>day of accident</th>\n",
              "      <th>month of accident</th>\n",
              "      <th>Officer reporting</th>\n",
              "      <th>wearing a helmet?</th>\n",
              "    </tr>\n",
              "  </thead>\n",
              "  <tbody>\n",
              "    <tr>\n",
              "      <th>0</th>\n",
              "      <td>Sharon</td>\n",
              "      <td>Griffin</td>\n",
              "      <td>f</td>\n",
              "      <td>7.0</td>\n",
              "      <td>75 m</td>\n",
              "      <td>uneven pavement</td>\n",
              "      <td>broken leg</td>\n",
              "      <td>1</td>\n",
              "      <td>2:35</td>\n",
              "      <td>2.58</td>\n",
              "      <td>Saturday</td>\n",
              "      <td>May</td>\n",
              "      <td>45211</td>\n",
              "      <td>y</td>\n",
              "    </tr>\n",
              "    <tr>\n",
              "      <th>1</th>\n",
              "      <td>Fred</td>\n",
              "      <td>Fuller</td>\n",
              "      <td>m</td>\n",
              "      <td>6.0</td>\n",
              "      <td>20m</td>\n",
              "      <td>fell over</td>\n",
              "      <td>concussion</td>\n",
              "      <td>1</td>\n",
              "      <td>3:15</td>\n",
              "      <td>3.25</td>\n",
              "      <td>Sunday</td>\n",
              "      <td>September</td>\n",
              "      <td>39813</td>\n",
              "      <td>y</td>\n",
              "    </tr>\n",
              "    <tr>\n",
              "      <th>2</th>\n",
              "      <td>Seren</td>\n",
              "      <td>Maher</td>\n",
              "      <td>f</td>\n",
              "      <td>16.0</td>\n",
              "      <td>20m</td>\n",
              "      <td>hit kerb</td>\n",
              "      <td>dislocated elbow</td>\n",
              "      <td>0</td>\n",
              "      <td>7:00</td>\n",
              "      <td>7.00</td>\n",
              "      <td>Wednesday</td>\n",
              "      <td>November</td>\n",
              "      <td>78264</td>\n",
              "      <td>n</td>\n",
              "    </tr>\n",
              "    <tr>\n",
              "      <th>3</th>\n",
              "      <td>James</td>\n",
              "      <td>Moore</td>\n",
              "      <td>m</td>\n",
              "      <td>20.0</td>\n",
              "      <td>2km</td>\n",
              "      <td>trying to fix chain</td>\n",
              "      <td>partially severed finger</td>\n",
              "      <td>0</td>\n",
              "      <td>7:00</td>\n",
              "      <td>7.00</td>\n",
              "      <td>Monday</td>\n",
              "      <td>June</td>\n",
              "      <td>97655</td>\n",
              "      <td>n</td>\n",
              "    </tr>\n",
              "    <tr>\n",
              "      <th>4</th>\n",
              "      <td>Claire</td>\n",
              "      <td>Higgins</td>\n",
              "      <td>f</td>\n",
              "      <td>19.0</td>\n",
              "      <td>10 km</td>\n",
              "      <td>hit by car at roundabout</td>\n",
              "      <td>fractured arm and sprained wrist</td>\n",
              "      <td>0</td>\n",
              "      <td>7:45</td>\n",
              "      <td>7.75</td>\n",
              "      <td>Monday</td>\n",
              "      <td>February</td>\n",
              "      <td>78264</td>\n",
              "      <td>y</td>\n",
              "    </tr>\n",
              "  </tbody>\n",
              "</table>\n",
              "</div>\n",
              "      <button class=\"colab-df-convert\" onclick=\"convertToInteractive('df-217d629a-6819-429f-8f5f-8b1396243f28')\"\n",
              "              title=\"Convert this dataframe to an interactive table.\"\n",
              "              style=\"display:none;\">\n",
              "        \n",
              "  <svg xmlns=\"http://www.w3.org/2000/svg\" height=\"24px\"viewBox=\"0 0 24 24\"\n",
              "       width=\"24px\">\n",
              "    <path d=\"M0 0h24v24H0V0z\" fill=\"none\"/>\n",
              "    <path d=\"M18.56 5.44l.94 2.06.94-2.06 2.06-.94-2.06-.94-.94-2.06-.94 2.06-2.06.94zm-11 1L8.5 8.5l.94-2.06 2.06-.94-2.06-.94L8.5 2.5l-.94 2.06-2.06.94zm10 10l.94 2.06.94-2.06 2.06-.94-2.06-.94-.94-2.06-.94 2.06-2.06.94z\"/><path d=\"M17.41 7.96l-1.37-1.37c-.4-.4-.92-.59-1.43-.59-.52 0-1.04.2-1.43.59L10.3 9.45l-7.72 7.72c-.78.78-.78 2.05 0 2.83L4 21.41c.39.39.9.59 1.41.59.51 0 1.02-.2 1.41-.59l7.78-7.78 2.81-2.81c.8-.78.8-2.07 0-2.86zM5.41 20L4 18.59l7.72-7.72 1.47 1.35L5.41 20z\"/>\n",
              "  </svg>\n",
              "      </button>\n",
              "      \n",
              "  <style>\n",
              "    .colab-df-container {\n",
              "      display:flex;\n",
              "      flex-wrap:wrap;\n",
              "      gap: 12px;\n",
              "    }\n",
              "\n",
              "    .colab-df-convert {\n",
              "      background-color: #E8F0FE;\n",
              "      border: none;\n",
              "      border-radius: 50%;\n",
              "      cursor: pointer;\n",
              "      display: none;\n",
              "      fill: #1967D2;\n",
              "      height: 32px;\n",
              "      padding: 0 0 0 0;\n",
              "      width: 32px;\n",
              "    }\n",
              "\n",
              "    .colab-df-convert:hover {\n",
              "      background-color: #E2EBFA;\n",
              "      box-shadow: 0px 1px 2px rgba(60, 64, 67, 0.3), 0px 1px 3px 1px rgba(60, 64, 67, 0.15);\n",
              "      fill: #174EA6;\n",
              "    }\n",
              "\n",
              "    [theme=dark] .colab-df-convert {\n",
              "      background-color: #3B4455;\n",
              "      fill: #D2E3FC;\n",
              "    }\n",
              "\n",
              "    [theme=dark] .colab-df-convert:hover {\n",
              "      background-color: #434B5C;\n",
              "      box-shadow: 0px 1px 3px 1px rgba(0, 0, 0, 0.15);\n",
              "      filter: drop-shadow(0px 1px 2px rgba(0, 0, 0, 0.3));\n",
              "      fill: #FFFFFF;\n",
              "    }\n",
              "  </style>\n",
              "\n",
              "      <script>\n",
              "        const buttonEl =\n",
              "          document.querySelector('#df-217d629a-6819-429f-8f5f-8b1396243f28 button.colab-df-convert');\n",
              "        buttonEl.style.display =\n",
              "          google.colab.kernel.accessAllowed ? 'block' : 'none';\n",
              "\n",
              "        async function convertToInteractive(key) {\n",
              "          const element = document.querySelector('#df-217d629a-6819-429f-8f5f-8b1396243f28');\n",
              "          const dataTable =\n",
              "            await google.colab.kernel.invokeFunction('convertToInteractive',\n",
              "                                                     [key], {});\n",
              "          if (!dataTable) return;\n",
              "\n",
              "          const docLinkHtml = 'Like what you see? Visit the ' +\n",
              "            '<a target=\"_blank\" href=https://colab.research.google.com/notebooks/data_table.ipynb>data table notebook</a>'\n",
              "            + ' to learn more about interactive tables.';\n",
              "          element.innerHTML = '';\n",
              "          dataTable['output_type'] = 'display_data';\n",
              "          await google.colab.output.renderOutput(dataTable, element);\n",
              "          const docLink = document.createElement('div');\n",
              "          docLink.innerHTML = docLinkHtml;\n",
              "          element.appendChild(docLink);\n",
              "        }\n",
              "      </script>\n",
              "    </div>\n",
              "  </div>\n",
              "  "
            ]
          },
          "metadata": {},
          "execution_count": 56
        }
      ]
    },
    {
      "cell_type": "code",
      "source": [
        "cycling.shape"
      ],
      "metadata": {
        "colab": {
          "base_uri": "https://localhost:8080/"
        },
        "id": "T4-h75gKf1hZ",
        "outputId": "c32ad637-17ee-49a9-dcda-1e018dcdb253"
      },
      "id": "T4-h75gKf1hZ",
      "execution_count": 57,
      "outputs": [
        {
          "output_type": "execute_result",
          "data": {
            "text/plain": [
              "(89, 14)"
            ]
          },
          "metadata": {},
          "execution_count": 57
        }
      ]
    },
    {
      "cell_type": "code",
      "source": [
        "cycling.describe()"
      ],
      "metadata": {
        "colab": {
          "base_uri": "https://localhost:8080/",
          "height": 300
        },
        "id": "-RCBQ6UOf51v",
        "outputId": "13246487-2484-4482-8ce1-7771a03bf72e"
      },
      "id": "-RCBQ6UOf51v",
      "execution_count": 58,
      "outputs": [
        {
          "output_type": "execute_result",
          "data": {
            "text/plain": [
              "              age  overnights in hospital  Time of accident numerical  \\\n",
              "count   89.000000               89.000000                   89.000000   \n",
              "mean    30.775281                1.067416                   12.618090   \n",
              "std     23.270886                4.358372                    4.521165   \n",
              "min      5.000000                0.000000                    2.580000   \n",
              "25%     13.000000                0.000000                    8.500000   \n",
              "50%     22.000000                0.000000                   10.750000   \n",
              "75%     45.000000                1.000000                   16.750000   \n",
              "max    138.000000               40.000000                   22.000000   \n",
              "\n",
              "       Officer reporting  \n",
              "count          89.000000  \n",
              "mean        68478.146067  \n",
              "std         24920.486124  \n",
              "min         39014.000000  \n",
              "25%         39813.000000  \n",
              "50%         78264.000000  \n",
              "75%         97655.000000  \n",
              "max         97655.000000  "
            ],
            "text/html": [
              "\n",
              "  <div id=\"df-4c646896-96db-46b8-bda3-bdbd82ac3dc4\">\n",
              "    <div class=\"colab-df-container\">\n",
              "      <div>\n",
              "<style scoped>\n",
              "    .dataframe tbody tr th:only-of-type {\n",
              "        vertical-align: middle;\n",
              "    }\n",
              "\n",
              "    .dataframe tbody tr th {\n",
              "        vertical-align: top;\n",
              "    }\n",
              "\n",
              "    .dataframe thead th {\n",
              "        text-align: right;\n",
              "    }\n",
              "</style>\n",
              "<table border=\"1\" class=\"dataframe\">\n",
              "  <thead>\n",
              "    <tr style=\"text-align: right;\">\n",
              "      <th></th>\n",
              "      <th>age</th>\n",
              "      <th>overnights in hospital</th>\n",
              "      <th>Time of accident numerical</th>\n",
              "      <th>Officer reporting</th>\n",
              "    </tr>\n",
              "  </thead>\n",
              "  <tbody>\n",
              "    <tr>\n",
              "      <th>count</th>\n",
              "      <td>89.000000</td>\n",
              "      <td>89.000000</td>\n",
              "      <td>89.000000</td>\n",
              "      <td>89.000000</td>\n",
              "    </tr>\n",
              "    <tr>\n",
              "      <th>mean</th>\n",
              "      <td>30.775281</td>\n",
              "      <td>1.067416</td>\n",
              "      <td>12.618090</td>\n",
              "      <td>68478.146067</td>\n",
              "    </tr>\n",
              "    <tr>\n",
              "      <th>std</th>\n",
              "      <td>23.270886</td>\n",
              "      <td>4.358372</td>\n",
              "      <td>4.521165</td>\n",
              "      <td>24920.486124</td>\n",
              "    </tr>\n",
              "    <tr>\n",
              "      <th>min</th>\n",
              "      <td>5.000000</td>\n",
              "      <td>0.000000</td>\n",
              "      <td>2.580000</td>\n",
              "      <td>39014.000000</td>\n",
              "    </tr>\n",
              "    <tr>\n",
              "      <th>25%</th>\n",
              "      <td>13.000000</td>\n",
              "      <td>0.000000</td>\n",
              "      <td>8.500000</td>\n",
              "      <td>39813.000000</td>\n",
              "    </tr>\n",
              "    <tr>\n",
              "      <th>50%</th>\n",
              "      <td>22.000000</td>\n",
              "      <td>0.000000</td>\n",
              "      <td>10.750000</td>\n",
              "      <td>78264.000000</td>\n",
              "    </tr>\n",
              "    <tr>\n",
              "      <th>75%</th>\n",
              "      <td>45.000000</td>\n",
              "      <td>1.000000</td>\n",
              "      <td>16.750000</td>\n",
              "      <td>97655.000000</td>\n",
              "    </tr>\n",
              "    <tr>\n",
              "      <th>max</th>\n",
              "      <td>138.000000</td>\n",
              "      <td>40.000000</td>\n",
              "      <td>22.000000</td>\n",
              "      <td>97655.000000</td>\n",
              "    </tr>\n",
              "  </tbody>\n",
              "</table>\n",
              "</div>\n",
              "      <button class=\"colab-df-convert\" onclick=\"convertToInteractive('df-4c646896-96db-46b8-bda3-bdbd82ac3dc4')\"\n",
              "              title=\"Convert this dataframe to an interactive table.\"\n",
              "              style=\"display:none;\">\n",
              "        \n",
              "  <svg xmlns=\"http://www.w3.org/2000/svg\" height=\"24px\"viewBox=\"0 0 24 24\"\n",
              "       width=\"24px\">\n",
              "    <path d=\"M0 0h24v24H0V0z\" fill=\"none\"/>\n",
              "    <path d=\"M18.56 5.44l.94 2.06.94-2.06 2.06-.94-2.06-.94-.94-2.06-.94 2.06-2.06.94zm-11 1L8.5 8.5l.94-2.06 2.06-.94-2.06-.94L8.5 2.5l-.94 2.06-2.06.94zm10 10l.94 2.06.94-2.06 2.06-.94-2.06-.94-.94-2.06-.94 2.06-2.06.94z\"/><path d=\"M17.41 7.96l-1.37-1.37c-.4-.4-.92-.59-1.43-.59-.52 0-1.04.2-1.43.59L10.3 9.45l-7.72 7.72c-.78.78-.78 2.05 0 2.83L4 21.41c.39.39.9.59 1.41.59.51 0 1.02-.2 1.41-.59l7.78-7.78 2.81-2.81c.8-.78.8-2.07 0-2.86zM5.41 20L4 18.59l7.72-7.72 1.47 1.35L5.41 20z\"/>\n",
              "  </svg>\n",
              "      </button>\n",
              "      \n",
              "  <style>\n",
              "    .colab-df-container {\n",
              "      display:flex;\n",
              "      flex-wrap:wrap;\n",
              "      gap: 12px;\n",
              "    }\n",
              "\n",
              "    .colab-df-convert {\n",
              "      background-color: #E8F0FE;\n",
              "      border: none;\n",
              "      border-radius: 50%;\n",
              "      cursor: pointer;\n",
              "      display: none;\n",
              "      fill: #1967D2;\n",
              "      height: 32px;\n",
              "      padding: 0 0 0 0;\n",
              "      width: 32px;\n",
              "    }\n",
              "\n",
              "    .colab-df-convert:hover {\n",
              "      background-color: #E2EBFA;\n",
              "      box-shadow: 0px 1px 2px rgba(60, 64, 67, 0.3), 0px 1px 3px 1px rgba(60, 64, 67, 0.15);\n",
              "      fill: #174EA6;\n",
              "    }\n",
              "\n",
              "    [theme=dark] .colab-df-convert {\n",
              "      background-color: #3B4455;\n",
              "      fill: #D2E3FC;\n",
              "    }\n",
              "\n",
              "    [theme=dark] .colab-df-convert:hover {\n",
              "      background-color: #434B5C;\n",
              "      box-shadow: 0px 1px 3px 1px rgba(0, 0, 0, 0.15);\n",
              "      filter: drop-shadow(0px 1px 2px rgba(0, 0, 0, 0.3));\n",
              "      fill: #FFFFFF;\n",
              "    }\n",
              "  </style>\n",
              "\n",
              "      <script>\n",
              "        const buttonEl =\n",
              "          document.querySelector('#df-4c646896-96db-46b8-bda3-bdbd82ac3dc4 button.colab-df-convert');\n",
              "        buttonEl.style.display =\n",
              "          google.colab.kernel.accessAllowed ? 'block' : 'none';\n",
              "\n",
              "        async function convertToInteractive(key) {\n",
              "          const element = document.querySelector('#df-4c646896-96db-46b8-bda3-bdbd82ac3dc4');\n",
              "          const dataTable =\n",
              "            await google.colab.kernel.invokeFunction('convertToInteractive',\n",
              "                                                     [key], {});\n",
              "          if (!dataTable) return;\n",
              "\n",
              "          const docLinkHtml = 'Like what you see? Visit the ' +\n",
              "            '<a target=\"_blank\" href=https://colab.research.google.com/notebooks/data_table.ipynb>data table notebook</a>'\n",
              "            + ' to learn more about interactive tables.';\n",
              "          element.innerHTML = '';\n",
              "          dataTable['output_type'] = 'display_data';\n",
              "          await google.colab.output.renderOutput(dataTable, element);\n",
              "          const docLink = document.createElement('div');\n",
              "          docLink.innerHTML = docLinkHtml;\n",
              "          element.appendChild(docLink);\n",
              "        }\n",
              "      </script>\n",
              "    </div>\n",
              "  </div>\n",
              "  "
            ]
          },
          "metadata": {},
          "execution_count": 58
        }
      ]
    },
    {
      "cell_type": "code",
      "source": [
        "age=cycling['age']  #Here we extraced a column as data series\n",
        "age"
      ],
      "metadata": {
        "id": "W0OQUvY6wcOn",
        "colab": {
          "base_uri": "https://localhost:8080/"
        },
        "outputId": "7b41f685-24fe-4321-fd61-f52532023497"
      },
      "id": "W0OQUvY6wcOn",
      "execution_count": 59,
      "outputs": [
        {
          "output_type": "execute_result",
          "data": {
            "text/plain": [
              "0      7.0\n",
              "1      6.0\n",
              "2     16.0\n",
              "3     20.0\n",
              "4     19.0\n",
              "      ... \n",
              "84    34.0\n",
              "85    16.0\n",
              "86    45.0\n",
              "87    21.0\n",
              "88    20.0\n",
              "Name: age, Length: 89, dtype: float64"
            ]
          },
          "metadata": {},
          "execution_count": 59
        }
      ]
    },
    {
      "cell_type": "code",
      "source": [
        "gender=cycling['gender']\n",
        "gender"
      ],
      "metadata": {
        "colab": {
          "base_uri": "https://localhost:8080/"
        },
        "id": "S6KQShv9KAdU",
        "outputId": "9fa68865-bcc3-4e28-8367-4b545d5c7613"
      },
      "id": "S6KQShv9KAdU",
      "execution_count": 60,
      "outputs": [
        {
          "output_type": "execute_result",
          "data": {
            "text/plain": [
              "0     f\n",
              "1     m\n",
              "2     f\n",
              "3     m\n",
              "4     f\n",
              "     ..\n",
              "84    m\n",
              "85    f\n",
              "86    m\n",
              "87    f\n",
              "88    m\n",
              "Name: gender, Length: 89, dtype: object"
            ]
          },
          "metadata": {},
          "execution_count": 60
        }
      ]
    },
    {
      "cell_type": "code",
      "source": [
        "distance_from_home=cycling['distance from home']\n",
        "distance_from_home"
      ],
      "metadata": {
        "colab": {
          "base_uri": "https://localhost:8080/"
        },
        "id": "WHozlVuSKWK0",
        "outputId": "ee3baee4-4fac-455b-e2c7-df3c079a4e5a"
      },
      "id": "WHozlVuSKWK0",
      "execution_count": 61,
      "outputs": [
        {
          "output_type": "execute_result",
          "data": {
            "text/plain": [
              "0          75 m\n",
              "1           20m\n",
              "2           20m\n",
              "3           2km\n",
              "4         10 km\n",
              "        ...    \n",
              "84    0.5 miles\n",
              "85    half mile\n",
              "86         3 km\n",
              "87         50m \n",
              "88      3 miles\n",
              "Name: distance from home, Length: 89, dtype: object"
            ]
          },
          "metadata": {},
          "execution_count": 61
        }
      ]
    },
    {
      "cell_type": "code",
      "source": [
        "age = cycling['age'] #turn value of age in cycling and pick it out as its own variable name so it just becomes age"
      ],
      "metadata": {
        "id": "44zHD2e4ww6P"
      },
      "id": "44zHD2e4ww6P",
      "execution_count": 62,
      "outputs": []
    },
    {
      "cell_type": "code",
      "source": [
        "age.describe()"
      ],
      "metadata": {
        "colab": {
          "base_uri": "https://localhost:8080/"
        },
        "id": "wIOWbWWUhNmN",
        "outputId": "b008e7e7-3299-4464-ce96-3840d2694387"
      },
      "id": "wIOWbWWUhNmN",
      "execution_count": 63,
      "outputs": [
        {
          "output_type": "execute_result",
          "data": {
            "text/plain": [
              "count     89.000000\n",
              "mean      30.775281\n",
              "std       23.270886\n",
              "min        5.000000\n",
              "25%       13.000000\n",
              "50%       22.000000\n",
              "75%       45.000000\n",
              "max      138.000000\n",
              "Name: age, dtype: float64"
            ]
          },
          "metadata": {},
          "execution_count": 63
        }
      ]
    },
    {
      "cell_type": "code",
      "source": [
        "helmet = cycling[\"wearing a helmet?\"]"
      ],
      "metadata": {
        "id": "4QtbRcJ1m19o"
      },
      "id": "4QtbRcJ1m19o",
      "execution_count": 64,
      "outputs": []
    },
    {
      "cell_type": "code",
      "source": [
        "overnights_in_hospital=cycling['overnights in hospital']\n",
        "overnights_in_hospital"
      ],
      "metadata": {
        "colab": {
          "base_uri": "https://localhost:8080/"
        },
        "id": "vJfa2CFAw_h3",
        "outputId": "ec81023e-af53-4e34-b754-ca2429730b83"
      },
      "id": "vJfa2CFAw_h3",
      "execution_count": 65,
      "outputs": [
        {
          "output_type": "execute_result",
          "data": {
            "text/plain": [
              "0     1\n",
              "1     1\n",
              "2     0\n",
              "3     0\n",
              "4     0\n",
              "     ..\n",
              "84    0\n",
              "85    0\n",
              "86    0\n",
              "87    0\n",
              "88    0\n",
              "Name: overnights in hospital, Length: 89, dtype: int64"
            ]
          },
          "metadata": {},
          "execution_count": 65
        }
      ]
    },
    {
      "cell_type": "code",
      "source": [
        "overnights_in_hospital.describe()"
      ],
      "metadata": {
        "colab": {
          "base_uri": "https://localhost:8080/"
        },
        "id": "sad4CAqP3trG",
        "outputId": "2a30ccfc-f0d7-4351-fb57-a943ecaf1648"
      },
      "id": "sad4CAqP3trG",
      "execution_count": 66,
      "outputs": [
        {
          "output_type": "execute_result",
          "data": {
            "text/plain": [
              "count    89.000000\n",
              "mean      1.067416\n",
              "std       4.358372\n",
              "min       0.000000\n",
              "25%       0.000000\n",
              "50%       0.000000\n",
              "75%       1.000000\n",
              "max      40.000000\n",
              "Name: overnights in hospital, dtype: float64"
            ]
          },
          "metadata": {},
          "execution_count": 66
        }
      ]
    },
    {
      "cell_type": "code",
      "source": [
        "helmet=cycling['wearing a helmet?']"
      ],
      "metadata": {
        "id": "S_VUvIlCxTj_"
      },
      "id": "S_VUvIlCxTj_",
      "execution_count": 67,
      "outputs": []
    },
    {
      "cell_type": "code",
      "source": [
        "helmet.describe()"
      ],
      "metadata": {
        "colab": {
          "base_uri": "https://localhost:8080/"
        },
        "id": "liXloMam3l6R",
        "outputId": "032115f4-6990-4c5c-ed6b-e6693eee38aa"
      },
      "id": "liXloMam3l6R",
      "execution_count": 68,
      "outputs": [
        {
          "output_type": "execute_result",
          "data": {
            "text/plain": [
              "count     89\n",
              "unique     2\n",
              "top        y\n",
              "freq      57\n",
              "Name: wearing a helmet?, dtype: object"
            ]
          },
          "metadata": {},
          "execution_count": 68
        }
      ]
    },
    {
      "cell_type": "code",
      "source": [
        "plt.plot(helmet,overnights_in_hospital, label = 'helmet against hospitalisation', color='orchid')"
      ],
      "metadata": {
        "colab": {
          "base_uri": "https://localhost:8080/",
          "height": 282
        },
        "id": "8Uof0o07mIpX",
        "outputId": "d1f1cf76-93de-4667-df78-b2d86c06ff6f"
      },
      "id": "8Uof0o07mIpX",
      "execution_count": 69,
      "outputs": [
        {
          "output_type": "execute_result",
          "data": {
            "text/plain": [
              "[<matplotlib.lines.Line2D at 0x7f3d1e170790>]"
            ]
          },
          "metadata": {},
          "execution_count": 69
        },
        {
          "output_type": "display_data",
          "data": {
            "text/plain": [
              "<Figure size 432x288 with 1 Axes>"
            ],
            "image/png": "[encoded data removed]"
          },
          "metadata": {
            "needs_background": "light"
          }
        }
      ]
    },
    {
      "cell_type": "code",
      "source": [
        "#this is basically bar chart with x and y variables and color, i guess title needed to be seperate\n",
        "plt.bar(helmet,overnights_in_hospital, color = 'darksalmon')\n",
        "plt.title('HOW WEARING A HELMET REDUCE HOSPITALISATION')\n",
        "plt.xlabel('wearing a helmet?')\n",
        "plt.ylabel('overnights in hospital')"
      ],
      "metadata": {
        "colab": {
          "base_uri": "https://localhost:8080/",
          "height": 312
        },
        "id": "v2Vr_vpdmKkO",
        "outputId": "fb7d4c33-63ff-410f-e487-5099e1f19757"
      },
      "id": "v2Vr_vpdmKkO",
      "execution_count": 70,
      "outputs": [
        {
          "output_type": "execute_result",
          "data": {
            "text/plain": [
              "Text(0, 0.5, 'overnights in hospital')"
            ]
          },
          "metadata": {},
          "execution_count": 70
        },
        {
          "output_type": "display_data",
          "data": {
            "text/plain": [
              "<Figure size 432x288 with 1 Axes>"
            ],
            "image/png": "[encoded data removed]"
          },
          "metadata": {
            "needs_background": "light"
          }
        }
      ]
    },
    {
      "cell_type": "code",
      "source": [],
      "metadata": {
        "id": "YMWty8PD700C"
      },
      "id": "YMWty8PD700C",
      "execution_count": 70,
      "outputs": []
    },
    {
      "cell_type": "markdown",
      "source": [
        "# Some basic arithmetic\n"
      ],
      "metadata": {
        "id": "Aqilph4VCqRe"
      },
      "id": "Aqilph4VCqRe"
    },
    {
      "cell_type": "code",
      "source": [
        "A=2*age\n",
        "B=age-10\n",
        "print(A)\n",
        "print(B)"
      ],
      "metadata": {
        "id": "HmdbLloOB76u",
        "colab": {
          "base_uri": "https://localhost:8080/"
        },
        "outputId": "02738e75-6542-412b-c3e7-1f1a2deb586f"
      },
      "id": "HmdbLloOB76u",
      "execution_count": 71,
      "outputs": [
        {
          "output_type": "stream",
          "name": "stdout",
          "text": [
            "0     14.0\n",
            "1     12.0\n",
            "2     32.0\n",
            "3     40.0\n",
            "4     38.0\n",
            "      ... \n",
            "84    68.0\n",
            "85    32.0\n",
            "86    90.0\n",
            "87    42.0\n",
            "88    40.0\n",
            "Name: age, Length: 89, dtype: float64\n",
            "0     -3.0\n",
            "1     -4.0\n",
            "2      6.0\n",
            "3     10.0\n",
            "4      9.0\n",
            "      ... \n",
            "84    24.0\n",
            "85     6.0\n",
            "86    35.0\n",
            "87    11.0\n",
            "88    10.0\n",
            "Name: age, Length: 89, dtype: float64\n"
          ]
        }
      ]
    },
    {
      "cell_type": "markdown",
      "source": [
        "# Access data "
      ],
      "metadata": {
        "id": "5ifgQq59Catz"
      },
      "id": "5ifgQq59Catz"
    },
    {
      "cell_type": "code",
      "source": [
        "age.index  #This shows the range of index, from 0 to 88 inclusive."
      ],
      "metadata": {
        "id": "jx61w3SEMHVw",
        "colab": {
          "base_uri": "https://localhost:8080/"
        },
        "outputId": "4daab9e2-7241-42f1-8d0e-c81d0f7a9939"
      },
      "id": "jx61w3SEMHVw",
      "execution_count": 72,
      "outputs": [
        {
          "output_type": "execute_result",
          "data": {
            "text/plain": [
              "RangeIndex(start=0, stop=89, step=1)"
            ]
          },
          "metadata": {},
          "execution_count": 72
        }
      ]
    },
    {
      "cell_type": "code",
      "source": [
        "C=age[1]\n",
        "C"
      ],
      "metadata": {
        "id": "gJhwiDceCick",
        "colab": {
          "base_uri": "https://localhost:8080/"
        },
        "outputId": "8d0ad0e8-6d12-40f5-8efa-0acad671a939"
      },
      "id": "gJhwiDceCick",
      "execution_count": 73,
      "outputs": [
        {
          "output_type": "execute_result",
          "data": {
            "text/plain": [
              "6.0"
            ]
          },
          "metadata": {},
          "execution_count": 73
        }
      ]
    },
    {
      "cell_type": "code",
      "source": [
        "d=age.iloc[0] # you can also using item location 0, 1, 2...\n",
        "d"
      ],
      "metadata": {
        "id": "cTZa684bMhMo",
        "colab": {
          "base_uri": "https://localhost:8080/"
        },
        "outputId": "cf10ba23-2d08-4070-84ba-ae9300c6f924"
      },
      "id": "cTZa684bMhMo",
      "execution_count": 74,
      "outputs": [
        {
          "output_type": "execute_result",
          "data": {
            "text/plain": [
              "7.0"
            ]
          },
          "metadata": {},
          "execution_count": 74
        }
      ]
    },
    {
      "cell_type": "code",
      "source": [
        "e=age.iloc[-1]  #-1 is the last item in the list\n",
        "e"
      ],
      "metadata": {
        "id": "Y7Qqu-MFM22a",
        "colab": {
          "base_uri": "https://localhost:8080/"
        },
        "outputId": "f5728fcc-92eb-4a73-aab9-a044e8e2a33d"
      },
      "id": "Y7Qqu-MFM22a",
      "execution_count": 75,
      "outputs": [
        {
          "output_type": "execute_result",
          "data": {
            "text/plain": [
              "20.0"
            ]
          },
          "metadata": {},
          "execution_count": 75
        }
      ]
    },
    {
      "cell_type": "code",
      "source": [
        "f=age[:5] # This is to access the first five numbers\n",
        "f"
      ],
      "metadata": {
        "id": "L-W4RpJCOA4o",
        "colab": {
          "base_uri": "https://localhost:8080/"
        },
        "outputId": "1061cd44-5f2a-420b-a825-6263b71f383e"
      },
      "id": "L-W4RpJCOA4o",
      "execution_count": 76,
      "outputs": [
        {
          "output_type": "execute_result",
          "data": {
            "text/plain": [
              "0     7.0\n",
              "1     6.0\n",
              "2    16.0\n",
              "3    20.0\n",
              "4    19.0\n",
              "Name: age, dtype: float64"
            ]
          },
          "metadata": {},
          "execution_count": 76
        }
      ]
    },
    {
      "cell_type": "code",
      "source": [
        "g=age[2:5] # This is to access the numbers from index 2 to 4\n",
        "g"
      ],
      "metadata": {
        "id": "fKxqtUMPOWB5",
        "colab": {
          "base_uri": "https://localhost:8080/"
        },
        "outputId": "4bc490f1-1164-41e5-a1f1-20c4f844be65"
      },
      "id": "fKxqtUMPOWB5",
      "execution_count": 77,
      "outputs": [
        {
          "output_type": "execute_result",
          "data": {
            "text/plain": [
              "2    16.0\n",
              "3    20.0\n",
              "4    19.0\n",
              "Name: age, dtype: float64"
            ]
          },
          "metadata": {},
          "execution_count": 77
        }
      ]
    },
    {
      "cell_type": "code",
      "source": [
        "h=age.iloc[-5:-1]\n",
        "h"
      ],
      "metadata": {
        "id": "UqsHiEiUOm4R",
        "colab": {
          "base_uri": "https://localhost:8080/"
        },
        "outputId": "ef9cb83d-d46c-47e7-9cb4-f0ab25b30cf6"
      },
      "id": "UqsHiEiUOm4R",
      "execution_count": 78,
      "outputs": [
        {
          "output_type": "execute_result",
          "data": {
            "text/plain": [
              "84    34.0\n",
              "85    16.0\n",
              "86    45.0\n",
              "87    21.0\n",
              "Name: age, dtype: float64"
            ]
          },
          "metadata": {},
          "execution_count": 78
        }
      ]
    },
    {
      "cell_type": "markdown",
      "source": [
        "# Sampling methods"
      ],
      "metadata": {
        "id": "Ie8aHmC5QG_7"
      },
      "id": "Ie8aHmC5QG_7"
    },
    {
      "cell_type": "code",
      "source": [
        "s1=age.sample() # This gives a randomly chosen number\n",
        "print(s1)"
      ],
      "metadata": {
        "id": "fUSqZ6CxQLpb",
        "colab": {
          "base_uri": "https://localhost:8080/"
        },
        "outputId": "ca25198a-9cff-4916-d8f1-dd2404a444d6"
      },
      "id": "fUSqZ6CxQLpb",
      "execution_count": 79,
      "outputs": [
        {
          "output_type": "stream",
          "name": "stdout",
          "text": [
            "43    62.0\n",
            "Name: age, dtype: float64\n"
          ]
        }
      ]
    },
    {
      "cell_type": "code",
      "source": [
        "s2=age.sample(n=5) # This gives the defined number of randomly chosen samples\n",
        "print(s2)"
      ],
      "metadata": {
        "id": "RcbKWsrLRGxq",
        "colab": {
          "base_uri": "https://localhost:8080/"
        },
        "outputId": "61e57915-d49d-4b7e-ec44-6b6d8f8df91a"
      },
      "id": "RcbKWsrLRGxq",
      "execution_count": 80,
      "outputs": [
        {
          "output_type": "stream",
          "name": "stdout",
          "text": [
            "47     6.5\n",
            "58    37.0\n",
            "3     20.0\n",
            "32    67.0\n",
            "74    39.0\n",
            "Name: age, dtype: float64\n"
          ]
        }
      ]
    },
    {
      "cell_type": "code",
      "source": [
        "s3=age.sample(frac=0.1) # morelike stretified, give a sample of 10% of total \n",
        "s3"
      ],
      "metadata": {
        "id": "39Uj-EMpQbAJ",
        "colab": {
          "base_uri": "https://localhost:8080/"
        },
        "outputId": "72c01fdc-9778-4cc3-b34a-e5e0283dbdb3"
      },
      "id": "39Uj-EMpQbAJ",
      "execution_count": 81,
      "outputs": [
        {
          "output_type": "execute_result",
          "data": {
            "text/plain": [
              "34     8.0\n",
              "1      6.0\n",
              "42    36.0\n",
              "10    60.0\n",
              "62    28.0\n",
              "33     8.5\n",
              "79    14.0\n",
              "69    13.0\n",
              "21    15.0\n",
              "Name: age, dtype: float64"
            ]
          },
          "metadata": {},
          "execution_count": 81
        }
      ]
    },
    {
      "cell_type": "code",
      "source": [
        "s4=age[age<18] #This give all the samples that age<18\n",
        "s4"
      ],
      "metadata": {
        "id": "zLMAMdP1RcUD",
        "colab": {
          "base_uri": "https://localhost:8080/"
        },
        "outputId": "0c0f1500-4579-4592-f94f-d903a9f52a32"
      },
      "id": "zLMAMdP1RcUD",
      "execution_count": 82,
      "outputs": [
        {
          "output_type": "execute_result",
          "data": {
            "text/plain": [
              "0      7.0\n",
              "1      6.0\n",
              "2     16.0\n",
              "7     10.0\n",
              "8     17.0\n",
              "9     15.0\n",
              "12    14.0\n",
              "13    13.0\n",
              "21    15.0\n",
              "27     5.0\n",
              "28    13.0\n",
              "30     9.0\n",
              "33     8.5\n",
              "34     8.0\n",
              "36    12.0\n",
              "37     9.0\n",
              "47     6.5\n",
              "50     7.0\n",
              "51     9.0\n",
              "52     9.0\n",
              "53    16.0\n",
              "54    15.0\n",
              "55    11.0\n",
              "59    10.0\n",
              "60    11.0\n",
              "64    17.0\n",
              "65    12.0\n",
              "67     9.0\n",
              "69    13.0\n",
              "76    16.0\n",
              "77    10.0\n",
              "78     7.0\n",
              "79    14.0\n",
              "85    16.0\n",
              "Name: age, dtype: float64"
            ]
          },
          "metadata": {},
          "execution_count": 82
        }
      ]
    },
    {
      "cell_type": "code",
      "source": [
        "rate=5\n",
        "s5=age[::rate] #This is close to systermatic sampling with evey 5 interval, always start from index=0\n",
        "s5"
      ],
      "metadata": {
        "id": "AwDMs3WISH39",
        "colab": {
          "base_uri": "https://localhost:8080/"
        },
        "outputId": "108012d7-6eea-4539-d546-707160fe33e6"
      },
      "id": "AwDMs3WISH39",
      "execution_count": 83,
      "outputs": [
        {
          "output_type": "execute_result",
          "data": {
            "text/plain": [
              "0      7.0\n",
              "5     52.0\n",
              "10    60.0\n",
              "15    23.0\n",
              "20    25.0\n",
              "25    36.0\n",
              "30     9.0\n",
              "35    52.0\n",
              "40    26.0\n",
              "45    34.0\n",
              "50     7.0\n",
              "55    11.0\n",
              "60    11.0\n",
              "65    12.0\n",
              "70    18.0\n",
              "75    62.0\n",
              "80    32.0\n",
              "85    16.0\n",
              "Name: age, dtype: float64"
            ]
          },
          "metadata": {},
          "execution_count": 83
        }
      ]
    },
    {
      "cell_type": "code",
      "source": [],
      "metadata": {
        "id": "6_SVWbrzSk3r"
      },
      "id": "6_SVWbrzSk3r",
      "execution_count": 83,
      "outputs": []
    }
  ],
  "metadata": {
    "kernelspec": {
      "display_name": "Python 3",
      "language": "python",
      "name": "python3"
    },
    "language_info": {
      "codemirror_mode": {
        "name": "ipython",
        "version": 3
      },
      "file_extension": ".py",
      "mimetype": "text/x-python",
      "name": "python",
      "nbconvert_exporter": "python",
      "pygments_lexer": "ipython3",
      "version": "3.8.10"
    },
    "colab": {
      "provenance": [],
      "include_colab_link": true
    }
  },
  "nbformat": 4,
  "nbformat_minor": 5
}